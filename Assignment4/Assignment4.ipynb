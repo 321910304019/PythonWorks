{
 "cells": [
  {
   "cell_type": "code",
   "execution_count": 2,
   "metadata": {},
   "outputs": [
    {
     "name": "stdout",
     "output_type": "stream",
     "text": [
      "Enter the radius of circle:6\n",
      "The Area of circle is 113.09733552923255\n"
     ]
    }
   ],
   "source": [
    "#Area of circle using math function\n",
    "import math\n",
    "r=float(input(\"Enter the radius of circle:\"))\n",
    "A=math.pi*r*r\n",
    "print(\"The Area of circle is\",A)"
   ]
  },
  {
   "cell_type": "code",
   "execution_count": 3,
   "metadata": {},
   "outputs": [
    {
     "name": "stdout",
     "output_type": "stream",
     "text": [
      "Enter No.of sides of the polygon:6\n",
      "Enter the length of each side:10\n",
      "The Perimeter of regular polygon is 60\n",
      "The Apothem of the regular poygon is 8.660254037844387\n",
      "The Area of regular polygon is 259.8076211353316\n"
     ]
    }
   ],
   "source": [
    "#Area of Regular polygon using math function\n",
    "import math\n",
    "n=int(input(\"Enter No.of sides of the polygon:\"))\n",
    "s=int(input(\"Enter the length of each side:\"))\n",
    "P=s*n\n",
    "print(\"The Perimeter of regular polygon is\",P)\n",
    "a=s/(2*math.tan(math.pi/n))\n",
    "print(\"The Apothem of the regular poygon is\",a)\n",
    "A=(P*a)/2\n",
    "print(\"The Area of regular polygon is\",A)"
   ]
  },
  {
   "cell_type": "code",
   "execution_count": 4,
   "metadata": {},
   "outputs": [
    {
     "name": "stdout",
     "output_type": "stream",
     "text": [
      "Enter the radius of circle:6\n",
      "Enter the angle of the segment:45\n",
      "The Area of segment is 14.137166941154069\n"
     ]
    }
   ],
   "source": [
    "#Area of Segment of the circle using math function\n",
    "import math\n",
    "r=float(input(\"Enter the radius of circle:\"))\n",
    "angle=float(input(\"Enter the angle of the segment:\"))\n",
    "A=(math.pi*r**2)*(angle/360)\n",
    "print(\"The Area of segment is\",A)"
   ]
  },
  {
   "cell_type": "code",
   "execution_count": 5,
   "metadata": {},
   "outputs": [
    {
     "name": "stdout",
     "output_type": "stream",
     "text": [
      "Original list: [100, 1, 2, 3, 30, 40, 'hai', 'hello']\n",
      "List after first shuffle: ['hai', 30, 1, 3, 100, 40, 2, 'hello']\n",
      "List after second shuffle: [30, 3, 1, 2, 100, 'hello', 40, 'hai']\n",
      "List after third shuffle: [1, 'hello', 100, 'hai', 2, 30, 3, 40]\n",
      "List after fourth shuffle: [30, 1, 40, 'hai', 100, 3, 'hello', 2]\n",
      "List after fifth shuffle: [100, 1, 30, 'hello', 3, 'hai', 40, 2]\n"
     ]
    }
   ],
   "source": [
    "#Randomly Shuffle the given list\n",
    "import random\n",
    "l1=[100,1,2,3,30,40,\"hai\",\"hello\"]\n",
    "print(\"Original list:\",l1)\n",
    "random.shuffle(l1)\n",
    "print(\"List after first shuffle:\",l1)\n",
    "random.shuffle(l1)\n",
    "print(\"List after second shuffle:\",l1)\n",
    "random.shuffle(l1)\n",
    "print(\"List after third shuffle:\",l1)\n",
    "random.shuffle(l1)\n",
    "print(\"List after fourth shuffle:\",l1)\n",
    "random.shuffle(l1)\n",
    "print(\"List after fifth shuffle:\",l1)"
   ]
  },
  {
   "cell_type": "code",
   "execution_count": 6,
   "metadata": {},
   "outputs": [
    {
     "name": "stdout",
     "output_type": "stream",
     "text": [
      "First shuffle 5550\n",
      "Second shuffle 3050\n",
      "Third shuffle 4000\n"
     ]
    }
   ],
   "source": [
    "#Random numbers between 1 and 10000 with random difference 50\n",
    "import random\n",
    "print(\"First shuffle\",random.randrange(0,10001,50))\n",
    "print(\"Second shuffle\",random.randrange(0,10001,50))\n",
    "print(\"Third shuffle\",random.randrange(0,10001,50))"
   ]
  },
  {
   "cell_type": "code",
   "execution_count": 7,
   "metadata": {},
   "outputs": [
    {
     "name": "stdout",
     "output_type": "stream",
     "text": [
      "The value of Sin(60) is 0.8660254037844386\n",
      "The value of Cos(pi) is -1.0\n",
      "The value of Tan(90) is 1.633123935319537e+16\n",
      "The Angle Sin inverse of 0.8660254037844386 is 60.00002145385002 Degrees\n",
      "The value of 5^8 is 13\n",
      "The Square root value of 400 is 20.0\n",
      "The Value of 5^e is 7\n",
      "The value of Log(1024) for base 2 is 10.0\n",
      "The value of Log(1024) for base 10 is 3.0102999566398116\n",
      "The Floor value of 23.56 is 23\n",
      "The Ceil value of 23.56 is 24\n"
     ]
    }
   ],
   "source": [
    "#Functioning of Cmath\n",
    "import cmath\n",
    "print(\"The value of Sin(60) is\",math.sin((math.pi)/3))\n",
    "print(\"The value of Cos(pi) is\",math.cos(math.pi))\n",
    "print(\"The value of Tan(90) is\",math.tan((math.pi)/2))\n",
    "print(\"The Angle Sin inverse of 0.8660254037844386 is\",(math.asin(0.8660254037844386))*57.2958,\"Degrees\")\n",
    "print(\"The value of 5^8 is\",5^8)\n",
    "print(\"The Square root value of 400 is\",math.sqrt(400))\n",
    "print(\"The Value of 5^e is\",5^int((math.e)))\n",
    "print(\"The value of Log(1024) for base 2 is\",math.log(1024,2))\n",
    "print(\"The value of Log(1024) for base 10 is\",math.log(1024,10))\n",
    "print(\"The Floor value of 23.56 is\",math.floor(23.56))\n",
    "print(\"The Ceil value of 23.56 is\",math.ceil(23.56))"
   ]
  }
 ],
 "metadata": {
  "kernelspec": {
   "display_name": "Python 3",
   "language": "python",
   "name": "python3"
  },
  "language_info": {
   "codemirror_mode": {
    "name": "ipython",
    "version": 3
   },
   "file_extension": ".py",
   "mimetype": "text/x-python",
   "name": "python",
   "nbconvert_exporter": "python",
   "pygments_lexer": "ipython3",
   "version": "3.8.3"
  }
 },
 "nbformat": 4,
 "nbformat_minor": 4
}
