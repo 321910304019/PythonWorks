{
 "cells": [
  {
   "cell_type": "code",
   "execution_count": 2,
   "metadata": {},
   "outputs": [
    {
     "name": "stdout",
     "output_type": "stream",
     "text": [
      "To find the maximum of three numbers\n",
      "Enter the first number:5\n",
      "Enter the second number:8\n",
      "Enter the third number:4\n",
      "The Maximum of three is 8.0\n"
     ]
    }
   ],
   "source": [
    "print(\"To find the maximum of three numbers\")\n",
    "Max=0\n",
    "a=float(input(\"Enter the first number:\"))\n",
    "b=float(input(\"Enter the second number:\"))\n",
    "c=float(input(\"Enter the third number:\"))\n",
    "if(a>=b) and (a>=c):\n",
    "    Max=a\n",
    "elif(b>=a) and (b>=c):\n",
    "    Max=b\n",
    "else:\n",
    "    Max=c\n",
    "print(\"The Maximum of three is\",Max)"
   ]
  },
  {
   "cell_type": "code",
   "execution_count": 7,
   "metadata": {},
   "outputs": [
    {
     "name": "stdout",
     "output_type": "stream",
     "text": [
      "To reverse a string\n",
      "Enter the string:Python Development\n",
      "The original string is: Python Development\n",
      "The reversed string is: tnempoleveD nohtyP \n"
     ]
    }
   ],
   "source": [
    "print(\"To reverse a string\")\n",
    "def reverse(s):\n",
    "    str=\" \"\n",
    "    for i in s:\n",
    "        str=i+str\n",
    "    return str\n",
    "s=str(input(\"Enter the string:\"))\n",
    "print(\"The original string is:\",s)\n",
    "print(\"The reversed string is:\",reverse(s))"
   ]
  },
  {
   "cell_type": "code",
   "execution_count": 4,
   "metadata": {},
   "outputs": [
    {
     "name": "stdout",
     "output_type": "stream",
     "text": [
      "Enter a positive integer:29\n",
      "29 is a prime number\n"
     ]
    }
   ],
   "source": [
    "flag=0\n",
    "i=0\n",
    "n=int(input(\"Enter a positive integer:\"))\n",
    "for i in range(2,n):\n",
    "    if n%i==0:\n",
    "        flag=1;\n",
    "        break;\n",
    "if n==1:\n",
    "    print(\"1 is neither prime nor composite\")\n",
    "else:\n",
    "    if flag==0:\n",
    "        print(n,\"is a prime number\")\n",
    "    else:\n",
    "        print(n,\"is not a prime number\")"
   ]
  },
  {
   "cell_type": "code",
   "execution_count": 5,
   "metadata": {},
   "outputs": [
    {
     "name": "stdout",
     "output_type": "stream",
     "text": [
      "To find the sum of squares of first n natural numbers\n",
      "Enter the value of n:6\n",
      "91.0\n"
     ]
    }
   ],
   "source": [
    "print(\"To find the sum of squares of first n natural numbers\")\n",
    "def sumsquare(n):\n",
    "    return((n*(n+1)*(2*n+1))/6)\n",
    "n=int(input(\"Enter the value of n:\"))\n",
    "print(sumsquare(n))"
   ]
  },
  {
   "cell_type": "code",
   "execution_count": 8,
   "metadata": {},
   "outputs": [
    {
     "name": "stdout",
     "output_type": "stream",
     "text": [
      "Enter any number : 5005\n",
      "The given number is PALINDROME\n"
     ]
    }
   ],
   "source": [
    "num = input('Enter any number : ')\n",
    "try:\n",
    "    val = int(num)\n",
    "    if num == str(num)[::-1]:\n",
    "        print('The given number is PALINDROME')\n",
    "    else:\n",
    "        print('The given number is NOT a palindrome')\n",
    "except ValueError:\n",
    "    print(\"That's not a valid number, Try Again !\")"
   ]
  }
 ],
 "metadata": {
  "kernelspec": {
   "display_name": "Python 3",
   "language": "python",
   "name": "python3"
  },
  "language_info": {
   "codemirror_mode": {
    "name": "ipython",
    "version": 3
   },
   "file_extension": ".py",
   "mimetype": "text/x-python",
   "name": "python",
   "nbconvert_exporter": "python",
   "pygments_lexer": "ipython3",
   "version": "3.8.3"
  }
 },
 "nbformat": 4,
 "nbformat_minor": 4
}
