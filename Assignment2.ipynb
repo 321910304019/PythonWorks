{
 "cells": [
  {
   "cell_type": "code",
   "execution_count": 1,
   "metadata": {},
   "outputs": [
    {
     "name": "stdout",
     "output_type": "stream",
     "text": [
      "Eligibility to vote\n",
      "Enter the age of the person:20\n",
      "Person is eligible to vote\n"
     ]
    }
   ],
   "source": [
    "print(\"Eligibility to vote\")\n",
    "age=int(input(\"Enter the age of the person:\"))\n",
    "if age>18:\n",
    "    print(\"Person is eligible to vote\")\n",
    "else:\n",
    "    print(\"Person is not eligible to vote\")"
   ]
  },
  {
   "cell_type": "code",
   "execution_count": 3,
   "metadata": {},
   "outputs": [
    {
     "name": "stdout",
     "output_type": "stream",
     "text": [
      "Even or Odd\n",
      "Enter the number:7\n",
      "It is an odd number\n"
     ]
    }
   ],
   "source": [
    "print(\"Even or Odd\")\n",
    "a=int(input(\"Enter the number:\"))\n",
    "if a%2==0:\n",
    "    print(\"It is an even number\")\n",
    "else:\n",
    "    print(\"It is an odd number\")"
   ]
  },
  {
   "cell_type": "code",
   "execution_count": 7,
   "metadata": {},
   "outputs": [
    {
     "name": "stdout",
     "output_type": "stream",
     "text": [
      "Enter a positive integer:56\n",
      "56 is not a prime number\n"
     ]
    }
   ],
   "source": [
    "flag=0\n",
    "i=0\n",
    "n=int(input(\"Enter a positive integer:\"))\n",
    "for i in range(2,n):\n",
    "    if n%i==0:\n",
    "        flag=1;\n",
    "        break;\n",
    "if n==1:\n",
    "    print(\"1 is neither prime nor composite\")\n",
    "else:\n",
    "    if flag==0:\n",
    "        print(n,\"is a prime number\")\n",
    "    else:\n",
    "        print(n,\"is not a prime number\")\n"
   ]
  },
  {
   "cell_type": "code",
   "execution_count": 8,
   "metadata": {},
   "outputs": [
    {
     "name": "stdout",
     "output_type": "stream",
     "text": [
      "Enter the number-6\n",
      "-6 is a negative number\n"
     ]
    }
   ],
   "source": [
    "a=int(input(\"Enter the number\"))\n",
    "if a>0:\n",
    "    print(a,\"is a positive number\")\n",
    "else:\n",
    "    print(a,\"is a negative number\")"
   ]
  },
  {
   "cell_type": "code",
   "execution_count": 11,
   "metadata": {},
   "outputs": [
    {
     "name": "stdout",
     "output_type": "stream",
     "text": [
      "Enter the number:0\n",
      "0 is a zero\n"
     ]
    }
   ],
   "source": [
    "a=int(input(\"Enter the number:\"))\n",
    "if a>0:\n",
    "    print(a,\"is a positive number\")\n",
    "elif a<0:\n",
    "    print(a,\"is a negative number\")\n",
    "else:\n",
    "    print(a,\"is a zero\")"
   ]
  },
  {
   "cell_type": "code",
   "execution_count": 13,
   "metadata": {},
   "outputs": [
    {
     "name": "stdout",
     "output_type": "stream",
     "text": [
      "Enter a number between 1&5 :3\n",
      "3=THREE\n"
     ]
    }
   ],
   "source": [
    "a=int(input(\"Enter a number between 1&5 :\"))\n",
    "if a==1:\n",
    "    print(\"1=ONE\")\n",
    "elif a==2:\n",
    "    print(\"2=TWO\")\n",
    "elif a==3:\n",
    "    print(\"3=THREE\")\n",
    "elif a==4:\n",
    "    print(\"4=FOUR\")\n",
    "elif a==5:\n",
    "    print(\"5=FIVE\")\n",
    "else:\n",
    "    print(\"Not in range of 1 & 5\")"
   ]
  },
  {
   "cell_type": "code",
   "execution_count": 16,
   "metadata": {},
   "outputs": [
    {
     "name": "stdout",
     "output_type": "stream",
     "text": [
      "Enter a character: A\n",
      "A is a Vowel\n"
     ]
    }
   ],
   "source": [
    "ch=input(\"Enter a character: \")\n",
    "if(ch=='a' or ch=='A' or ch=='e' or ch=='E' or ch=='i' or ch=='I' or ch=='o' or ch=='O' or ch=='u' or ch=='U'):\n",
    "    print(ch,\"is a Vowel\")\n",
    "else:\n",
    "    print(ch,\"is a Consonant\")"
   ]
  },
  {
   "cell_type": "code",
   "execution_count": 17,
   "metadata": {},
   "outputs": [
    {
     "name": "stdout",
     "output_type": "stream",
     "text": [
      "Roots for Quadratic equation\n",
      "Enter the coefficients of equation\n",
      "a:5\n",
      "b:6\n",
      "c:1\n",
      "Real and distinct roots\n",
      "The roots are (-5+0j) and (-25+0j)\n"
     ]
    }
   ],
   "source": [
    "print(\"Roots for Quadratic equation\")\n",
    "import cmath\n",
    "print(\"Enter the coefficients of equation\")\n",
    "a=float(input(\"a:\"))\n",
    "b=float(input(\"b:\"))\n",
    "c=float(input(\"c:\"))\n",
    "disc=b*b-(4*a*c)\n",
    "if disc>0:\n",
    "    print(\"Real and distinct roots\")\n",
    "    r1=(-b+cmath.sqrt(disc))/2*a\n",
    "    r2=(-b-cmath.sqrt(disc))/2*a\n",
    "    print(\"The roots are\",r1,\"and\",r2)\n",
    "elif disc==0:\n",
    "    print(\"Real and equal roots\")\n",
    "    r1=r2=-b/(2*a)\n",
    "    print(\"The roots are\",r1,\"and\",r2)\n",
    "else:\n",
    "    print(\"The roots are imaginary\")\n",
    "    real=-b/(2*a)\n",
    "    img=cmath.sqrt(-disc)/(2*a)\n",
    "    print(\"The roots are\",real,\"+\",img,\"and\",real,\"-\",img)"
   ]
  }
 ],
 "metadata": {
  "kernelspec": {
   "display_name": "Python 3",
   "language": "python",
   "name": "python3"
  },
  "language_info": {
   "codemirror_mode": {
    "name": "ipython",
    "version": 3
   },
   "file_extension": ".py",
   "mimetype": "text/x-python",
   "name": "python",
   "nbconvert_exporter": "python",
   "pygments_lexer": "ipython3",
   "version": "3.8.3"
  }
 },
 "nbformat": 4,
 "nbformat_minor": 4
}
